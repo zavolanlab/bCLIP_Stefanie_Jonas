{
 "cells": [
  {
   "cell_type": "code",
   "execution_count": 1,
   "id": "33182800-a2e4-47c3-8c18-590b03541527",
   "metadata": {},
   "outputs": [],
   "source": [
    "from __future__ import (absolute_import, division,\n",
    "                        print_function, unicode_literals)\n",
    "\n",
    "import warnings\n",
    "warnings.simplefilter('ignore')\n",
    "\n",
    "# general purpose packages\n",
    "import pandas as pd\n",
    "import numpy as np\n",
    "import os\n",
    "import json\n",
    "import time\n",
    "import re\n",
    "import csv\n",
    "import subprocess\n",
    "import sys\n",
    "\n",
    "import scipy.stats as stats\n",
    "import statsmodels.stats as smstats\n",
    "import statsmodels.api as sm\n",
    "from statsmodels.stats.multitest import multipletests\n",
    "\n",
    "from sklearn.preprocessing import StandardScaler\n",
    "from sklearn.decomposition import PCA\n",
    "\n",
    "import umap\n",
    "import rpy2\n",
    "\n",
    "from multiprocessing import Process, Manager, Pool\n",
    "import multiprocessing\n",
    "from functools import partial\n",
    "\n",
    "from collections import Counter\n",
    "\n",
    "import seaborn as sns; sns.set()\n",
    "\n",
    "import matplotlib\n",
    "matplotlib.style.use('seaborn')\n",
    "matplotlib.use('Agg')\n",
    "import matplotlib.pyplot as plt\n",
    "matplotlib.rcParams['backend'] = \"Qt5Agg\"\n",
    "import matplotlib.ticker as ticker\n",
    "from matplotlib.ticker import FuncFormatter\n",
    "\n",
    "from IPython.display import display, Image\n",
    "\n",
    "from adjustText import adjust_text\n",
    "import builtins\n",
    "%matplotlib inline\n",
    "\n",
    "# for normalization\n",
    "from sklearn.linear_model import QuantileRegressor\n",
    "\n",
    "# for working with yaml files\n",
    "import ruamel.yaml\n",
    "\n",
    "# for working with genomic intervals\n",
    "import pyranges as pr\n",
    "\n",
    "import itertools"
   ]
  },
  {
   "cell_type": "code",
   "execution_count": 2,
   "id": "1cb77454-c2f4-4c14-aa4a-c37d6ab961da",
   "metadata": {},
   "outputs": [],
   "source": [
    "def get_pvalue_star(pval, thr=0.05):\n",
    "    if thr == 0.05:\n",
    "        if pval < 0.001:\n",
    "            return \"***\"\n",
    "        elif pval < 0.01:\n",
    "            return \"**\"\n",
    "        elif pval < 0.05:\n",
    "            return \"*\"\n",
    "        else:\n",
    "            return \"ns\"\n",
    "    elif thr == 0.1:\n",
    "        if pval < 0.001:\n",
    "            return \"***\"\n",
    "        elif pval < 0.01:\n",
    "            return \"**\"\n",
    "        elif pval < 0.1:\n",
    "            return \"*\"\n",
    "        else:\n",
    "            return \"ns\""
   ]
  },
  {
   "cell_type": "code",
   "execution_count": 3,
   "id": "4c68b8f6-6004-4243-8dc3-5053639c85d7",
   "metadata": {},
   "outputs": [
    {
     "data": {
      "text/plain": [
       "0"
      ]
     },
     "execution_count": 3,
     "metadata": {},
     "output_type": "execute_result"
    }
   ],
   "source": [
    "# paths to subdirectories\n",
    "subdirs = {}\n",
    "\n",
    "subdirs['main_project_dir'] = '/scicore/home/zavolan/GROUP/StefanieCLIP/'\n",
    "subdirs['wf_dir'] = '/scicore/home/zavolan/mirono0000/Projects/bCLIP/bclip_workflow/'\n",
    "\n",
    "subdirs['zarp_dir'] = '/scicore/home/zavolan/mirono0000/libs/zarp/'\n",
    "subdirs['htsinfer_dir'] = '/scicore/home/zavolan/mirono0000/libs/htsinfer/'\n",
    "subdirs['zarp_config_dir'] = subdirs['zarp_dir']+'config/'\n",
    "\n",
    "subdirs['mouse_annotation_dir'] = '/scicore/home/zavolan/GROUP/Genomes/mus_musculus/'\n",
    "subdirs['human_annotation_dir'] = '/scicore/home/zavolan/GROUP/Genomes/homo_sapiens/'\n",
    "\n",
    "# shared project folder \n",
    "subdirs['shared_project_dir'] = subdirs['main_project_dir']+'aleksei/'\n",
    "subdirs['temp_dir'] = subdirs['shared_project_dir']+'temp_dir/'\n",
    "subdirs['slurm_dir'] = subdirs['temp_dir']+'slurm/'\n",
    "subdirs['scripts_dir'] = subdirs['shared_project_dir']+'scripts/'\n",
    "subdirs['figures_dir'] = subdirs['shared_project_dir']+'figures/'\n",
    "\n",
    "subdirs['fastq_dir'] = subdirs['shared_project_dir']+'input_fastq/'\n",
    "subdirs['metadata_dir'] = subdirs['shared_project_dir']+'metadata/'\n",
    "subdirs['wf_output_dir'] = subdirs['shared_project_dir']+'output/'\n",
    "\n",
    "# paths to files\n",
    "file_paths = {}\n",
    "### genome annotation files\n",
    "file_paths['mouse_genome_file'] = subdirs['mouse_annotation_dir']+'GRCm39.primary_assembly.genome.fa'\n",
    "file_paths['mouse_annotation_file'] = subdirs['mouse_annotation_dir']+'gencode.vM32.annotation.gtf'\n",
    "file_paths['mouse_RNAcentral_annotation_file'] = subdirs['mouse_annotation_dir']+'mus_musculus.GRCm39.gff3.gz'\n",
    "\n",
    "file_paths['mouse_prot_coding_gtf'] = subdirs['mouse_annotation_dir']+'coding.gencode.vM32.annotation.gtf'\n",
    "file_paths['mouse_collapsed_prot_coding_gtf'] = subdirs['mouse_annotation_dir']+'collapsed.coding.gencode.vM32.annotation.gtf'\n",
    "\n",
    "file_paths['mouse_enriched_annotation_file'] = subdirs['mouse_annotation_dir']+'enriched.gencode.vM32.annotation.gtf' # added RNA species from RNA central\n",
    "file_paths['mouse_collapsed_enriched_annotation_file'] = subdirs['mouse_annotation_dir']+'collapsed.enriched.gencode.vM32.annotation.gtf'\n",
    "\n",
    "file_paths['human_genome_file'] = subdirs['human_annotation_dir']+'GRCh38.primary_assembly.genome.fa'\n",
    "file_paths['human_annotation_file'] = subdirs['human_annotation_dir']+'hg38_v42/gencode.v42.annotation.gtf'\n",
    "file_paths['human_RNAcentral_annotation_file'] = subdirs['human_annotation_dir']+'hg38_v42/homo_sapiens.GRCh38.gff3.gz'\n",
    "\n",
    "file_paths['human_enriched_annotation_file'] = subdirs['human_annotation_dir']+'hg38_v42/enriched.gencode.v42.annotation.gtf'\n",
    "\n",
    "file_paths['htsinfer_transcripts_file'] = '/scicore/home/zavolan/GROUP/Genomes/htsinfer_deduplicated_transcripts.fasta'\n",
    "\n",
    "### control data\n",
    "file_paths['control_metadata_file_1'] = subdirs['metadata_dir']+'SRA_CONTROL_DATA_1.tsv'\n",
    "file_paths['control_metadata_file_2'] = subdirs['metadata_dir']+'SRA_CONTROL_DATA_2.tsv'\n",
    "\n",
    "os.system('mkdir -p '+' '.join(list(subdirs.values()))) # create all subdirs"
   ]
  },
  {
   "cell_type": "markdown",
   "id": "dba977f4-1108-4198-a4f6-7fb99a613f96",
   "metadata": {
    "jp-MarkdownHeadingCollapsed": true
   },
   "source": [
    "# move bam files to dedicated folders"
   ]
  },
  {
   "cell_type": "code",
   "execution_count": 6,
   "id": "1284c585-7cd4-477f-95c6-c6dfb1de6114",
   "metadata": {},
   "outputs": [
    {
     "data": {
      "text/plain": [
       "0"
      ]
     },
     "execution_count": 6,
     "metadata": {},
     "output_type": "execute_result"
    }
   ],
   "source": [
    "os.system(\"\"\"find \"\"\"+subdirs['wf_output_dir']+'samples/'+\"\"\" -name '*.0_um.sorted.bam' > \"\"\"+subdirs['temp_dir']+\"\"\"low_dupl_files.tsv\"\"\")"
   ]
  },
  {
   "cell_type": "code",
   "execution_count": 8,
   "id": "a5bd03de-6427-482e-ac12-cf552f06dfb2",
   "metadata": {},
   "outputs": [
    {
     "data": {
      "text/plain": [
       "0"
      ]
     },
     "execution_count": 8,
     "metadata": {},
     "output_type": "execute_result"
    }
   ],
   "source": [
    "os.system(\"\"\"find \"\"\"+subdirs['wf_output_dir']+'samples/'+\"\"\" -name '*.dedup.sorted.indexed.low_duplicate.bam' > \"\"\"+subdirs['temp_dir']+\"\"\"low_dupl_files_1.tsv\"\"\")"
   ]
  },
  {
   "cell_type": "code",
   "execution_count": 24,
   "id": "6a819a9e-6d32-4f9c-b4d8-c7bf19bf756a",
   "metadata": {},
   "outputs": [],
   "source": [
    "low_dupl_files = pd.read_csv(subdirs['temp_dir']+\"\"\"low_dupl_files.tsv\"\"\",delimiter=\"\\t\",\n",
    "                                   index_col=None,header=None)\n",
    "low_dupl_files_1 = pd.read_csv(subdirs['temp_dir']+\"\"\"low_dupl_files_1.tsv\"\"\",delimiter=\"\\t\",\n",
    "                                   index_col=None,header=None)\n",
    "low_dupl_files['prior'] = 1\n",
    "low_dupl_files_1['prior'] = 2\n",
    "low_dupl_files = pd.concat([low_dupl_files,low_dupl_files_1]).reset_index(drop=True)\n",
    "low_dupl_files['sample'] = low_dupl_files.apply(lambda x:x[0].split('/samples/')[1].split('/')[0],1)\n",
    "low_dupl_files = low_dupl_files.sort_values(['sample','prior']).drop_duplicates('sample').reset_index(drop=True)\n",
    "low_dupl_files[[0]].to_csv(subdirs['temp_dir']+\"\"\"low_dupl_files_to_retain.tsv\"\"\", sep=str('\\t'),header=False,index=None,quoting=csv.QUOTE_NONE)"
   ]
  },
  {
   "cell_type": "code",
   "execution_count": 34,
   "id": "3f17db1a-239b-4f29-a2b0-0a4c21c03ccc",
   "metadata": {},
   "outputs": [],
   "source": [
    "low_dupl_files[1] = low_dupl_files[0]+'.bai'"
   ]
  },
  {
   "cell_type": "code",
   "execution_count": 35,
   "id": "dee2fef4-e767-47be-99f2-fdf7fac69e22",
   "metadata": {},
   "outputs": [],
   "source": [
    "low_dupl_files[[1]].to_csv(subdirs['temp_dir']+\"\"\"low_dupl_bai_files_to_retain.tsv\"\"\", sep=str('\\t'),header=False,index=None,quoting=csv.QUOTE_NONE)"
   ]
  },
  {
   "cell_type": "code",
   "execution_count": 11,
   "id": "cd0d7e06-abd5-4d8d-b901-b6189d191cf0",
   "metadata": {},
   "outputs": [
    {
     "data": {
      "text/plain": [
       "'/scicore/home/zavolan/GROUP/StefanieCLIP/aleksei/output/samples/N4BP2C_replicate1/map_genome_all/read_categories/0_um/N4BP2C_replicate1.0_um.sorted.bam'"
      ]
     },
     "execution_count": 11,
     "metadata": {},
     "output_type": "execute_result"
    }
   ],
   "source": [
    "low_dupl_files.iloc[0][0]"
   ]
  },
  {
   "cell_type": "code",
   "execution_count": 12,
   "id": "8105b8d6-77d3-4d22-ac15-ff22e44ed9de",
   "metadata": {},
   "outputs": [
    {
     "data": {
      "text/plain": [
       "'/scicore/home/zavolan/GROUP/StefanieCLIP/aleksei/output/samples/N4BP2C_replicate1/map_genome_all/N4BP2C_replicate1.dedup.sorted.indexed.low_duplicate.bam'"
      ]
     },
     "execution_count": 12,
     "metadata": {},
     "output_type": "execute_result"
    }
   ],
   "source": [
    "low_dupl_files_1.iloc[0][0]"
   ]
  },
  {
   "cell_type": "code",
   "execution_count": 7,
   "id": "0e0dc894-ed10-48b7-84f2-0356bec08bc4",
   "metadata": {},
   "outputs": [
    {
     "data": {
      "text/plain": [
       "'/scicore/home/zavolan/GROUP/StefanieCLIP/aleksei/temp_dir/low_dupl_files.tsv'"
      ]
     },
     "execution_count": 7,
     "metadata": {},
     "output_type": "execute_result"
    }
   ],
   "source": [
    "subdirs['temp_dir']+\"\"\"low_dupl_files.tsv\"\"\""
   ]
  },
  {
   "cell_type": "code",
   "execution_count": 32,
   "id": "50ddeb46-c299-400b-85d2-1f0693d853c6",
   "metadata": {},
   "outputs": [
    {
     "data": {
      "text/plain": [
       "'mkdir -p ./low_dupl_bam_files && cat /scicore/home/zavolan/GROUP/StefanieCLIP/aleksei/temp_dir/low_dupl_files_to_retain.tsv | xargs -I % cp % ./low_dupl_bam_files'"
      ]
     },
     "execution_count": 32,
     "metadata": {},
     "output_type": "execute_result"
    }
   ],
   "source": [
    "\"mkdir -p ./low_dupl_bam_files && cat \"+subdirs['temp_dir']+\"\"\"low_dupl_files_to_retain.tsv\"\"\"+\" | xargs -I % cp % \"+'./low_dupl_bam_files'"
   ]
  },
  {
   "cell_type": "code",
   "execution_count": 38,
   "id": "be2b7837-4bb2-44c7-b692-fa13fed17fc8",
   "metadata": {},
   "outputs": [
    {
     "data": {
      "text/plain": [
       "'mkdir -p ./low_dupl_bam_files && cat /scicore/home/zavolan/GROUP/StefanieCLIP/aleksei/temp_dir/low_dupl_bai_files_to_retain.tsv | xargs -I % cp % ./low_dupl_bam_files'"
      ]
     },
     "execution_count": 38,
     "metadata": {},
     "output_type": "execute_result"
    }
   ],
   "source": [
    "\"mkdir -p ./low_dupl_bam_files && cat \"+subdirs['temp_dir']+\"\"\"low_dupl_bai_files_to_retain.tsv\"\"\"+\" | xargs -I % cp % \"+'./low_dupl_bam_files'"
   ]
  },
  {
   "cell_type": "code",
   "execution_count": 40,
   "id": "5378f01a-0907-414d-a4fb-0fc13ee99bff",
   "metadata": {},
   "outputs": [
    {
     "data": {
      "text/plain": [
       "'tar -czvf low_duplication_bam_files.tar.gz ./low_dupl_bam_files'"
      ]
     },
     "execution_count": 40,
     "metadata": {},
     "output_type": "execute_result"
    }
   ],
   "source": [
    "\"\"\"tar -czvf low_duplication_bam_files.tar.gz ./low_dupl_bam_files\"\"\""
   ]
  },
  {
   "cell_type": "markdown",
   "id": "c2b4c3dc-5324-4ad9-8eb8-0cbacf05afde",
   "metadata": {
    "jp-MarkdownHeadingCollapsed": true
   },
   "source": [
    "# Make enriched gtf file for mouse and human"
   ]
  },
  {
   "cell_type": "code",
   "execution_count": 4,
   "id": "cd8b50f4-1edc-4957-b471-1b9748bd3a23",
   "metadata": {},
   "outputs": [],
   "source": [
    "# organisms = ['mouse','human']\n",
    "organisms = ['mouse']\n",
    "\n",
    "for organism in organisms:\n",
    "    command = 'samtools faidx '+file_paths[organism+'_genome_file']\n",
    "    out = subprocess.check_output(command, shell=True)\n",
    "\n",
    "    gtf_df = pd.read_csv(file_paths[organism+'_annotation_file'],delimiter=\"\\t\",index_col=None,header=None,skiprows=5)\n",
    "\n",
    "    rna_central = pd.read_csv(file_paths[organism+'_RNAcentral_annotation_file'],delimiter=\"\\t\",index_col=None,header=None,skiprows=1,compression='gzip')\n",
    "    rna_central[2] = rna_central[2].str.replace('noncoding_exon','exon')\n",
    "    rna_central['gene_biotype'] = rna_central[8].str.split(';type=|;',expand=True)[1]\n",
    "    rna_central['gene_source'] = 'RNA_central'\n",
    "    rna_central['gene_id'] = rna_central[8].str.split('ID=|;|:',expand=True)[4]\n",
    "\n",
    "    rna_central_exons = rna_central.loc[rna_central[2]=='exon'].copy().reset_index(drop=True)\n",
    "    rna_central_exons['exon_id'] = rna_central_exons['gene_id']+'.transcript'+'.'+rna_central_exons[8].str.split('ID=|;|:',expand=True)[5]\n",
    "    rna_central_exons['exon_number'] = rna_central_exons[8].str.split('ID=|;|:',expand=True)[5].str.split('exon',expand=True).iloc[:, -1]\n",
    "    rna_central_exons[8] = 'gene_id \"'+rna_central_exons['gene_id']+'\"; transcript_id \"'+rna_central_exons['gene_id']+'.transcript'+'\"; exon_number \"'+rna_central_exons['exon_number']+'\"; gene_source \"'+rna_central_exons['gene_source']+'\"; gene_type \"'+rna_central_exons['gene_biotype']+'\"; transcript_source \"'+rna_central_exons['gene_source']+'\"; transcript_type \"'+rna_central_exons['gene_biotype']+'\"; exon_id \"'+rna_central_exons['exon_id']+'\"; tag \"'+rna_central['gene_source']+'\";'\n",
    "    rna_central_exons['order']=3\n",
    "\n",
    "    rna_central_exons['transcript_id'] = rna_central_exons['gene_id']+'.transcript'\n",
    "    rna_central_exons['exon_coords'] = rna_central_exons[3].astype('str')+'_'+rna_central_exons[4].astype('str')+','\n",
    "    rna_central_gr_transcripts = rna_central_exons.groupby([0,6,'transcript_id']).agg({'exon_coords':sum}).reset_index()\n",
    "    rna_central_gr_transcripts['transcript_alt_id'] = rna_central_gr_transcripts[0].astype('str')+'_'+rna_central_gr_transcripts[6]+'_'+rna_central_gr_transcripts['exon_coords']\n",
    "\n",
    "    gtf_df_exons = gtf_df.loc[gtf_df[2]=='exon'].reset_index(drop=True)\n",
    "    gtf_df_exons['transcript_id'] = gtf_df_exons[8].str.split('transcript_id \"',expand=True)[1].str.split('\"',expand=True)[0]\n",
    "    gtf_df_exons['exon_coords'] = gtf_df_exons[3].astype('str')+'_'+gtf_df_exons[4].astype('str')+','\n",
    "    gtf_df_gr_transcripts = gtf_df_exons.groupby([0,6,'transcript_id']).agg({'exon_coords':sum}).reset_index()\n",
    "    gtf_df_gr_transcripts['transcript_alt_id'] = gtf_df_gr_transcripts[0].astype('str')+'_'+gtf_df_gr_transcripts[6]+'_'+gtf_df_gr_transcripts['exon_coords']\n",
    "    ensembl_transcripts = list(gtf_df_gr_transcripts['transcript_alt_id'].unique())\n",
    "\n",
    "    preserve_transcripts_list = list(rna_central_gr_transcripts.loc[~rna_central_gr_transcripts['transcript_alt_id'].isin(ensembl_transcripts)]['transcript_id'].unique()) # when a transcript is present in ensemble and RNA central, prioritize ensemble\n",
    "    rna_central_exons = rna_central_exons.loc[rna_central_exons['transcript_id'].isin(preserve_transcripts_list)].reset_index(drop=True)\n",
    "    rna_central['transcript_id'] = rna_central['gene_id']+'.transcript'\n",
    "    rna_central = rna_central.loc[rna_central['transcript_id'].isin(preserve_transcripts_list)].reset_index(drop=True)\n",
    "\n",
    "    rna_central_exons = rna_central_exons[list(range(0,9))+['gene_id','order']]\n",
    "\n",
    "    rna_central_transcripts = rna_central.loc[rna_central[2]=='transcript'].copy().reset_index(drop=True)\n",
    "    rna_central_transcripts[8] = 'gene_id \"'+rna_central_transcripts['gene_id']+'\"; transcript_id \"'+rna_central_transcripts['gene_id']+'.transcript'+'\"; gene_source \"'+rna_central_transcripts['gene_source']+'\"; gene_type \"'+rna_central_transcripts['gene_biotype']+'\"; transcript_source \"'+rna_central_transcripts['gene_source']+'\"; transcript_type \"'+rna_central_transcripts['gene_biotype']+'\"; tag \"'+rna_central_transcripts['gene_source']+'\";'\n",
    "    rna_central_transcripts['order']=2\n",
    "    rna_central_transcripts = rna_central_transcripts[list(range(0,9))+['gene_id','order']]\n",
    "\n",
    "    rna_central_genes = rna_central.loc[rna_central[2]=='transcript'].copy().reset_index(drop=True)\n",
    "    rna_central_genes[2] = 'gene'\n",
    "    rna_central_genes[8] = 'gene_id \"'+rna_central_genes['gene_id']+'\"; gene_source \"'+rna_central_genes['gene_source']+'\"; gene_type \"'+rna_central_genes['gene_biotype']+'\";'\n",
    "    rna_central_genes['order']=1\n",
    "    rna_central_genes = rna_central_genes[list(range(0,9))+['gene_id','order']]\n",
    "\n",
    "    rna_central_gtf = pd.concat([rna_central_genes,rna_central_transcripts,rna_central_exons]).sort_values(['gene_id','order']).reset_index(drop=True).drop(['gene_id','order'],1)\n",
    "    rna_central_gtf[0] = 'chr'+rna_central_gtf[0].astype('str') # so that the naming is consistent\n",
    "    # save standard annotation enriched with RNA central\n",
    "    enriched_gtf = pd.concat([gtf_df,rna_central_gtf]).reset_index(drop=True)\n",
    "    genome_fai = pd.read_csv(file_paths[organism+'_genome_file']+'.fai',delimiter=\"\\t\",index_col=None,header=None)\n",
    "    enriched_gtf = pd.merge(genome_fai[[0]],enriched_gtf,how='inner',on=0)\n",
    "\n",
    "    # remove non-canonical chromosomes, they are not of interest\n",
    "    enriched_gtf = enriched_gtf.loc[enriched_gtf[0].str.startswith('chr')].reset_index(drop=True)\n",
    "    \n",
    "    # check that inferred introns are consistent (start<end), otherwise remove such transcripts\n",
    "    exons = enriched_gtf.loc[enriched_gtf[2]=='exon'].reset_index(drop=True)\n",
    "    exons['transcript_id'] = exons[8].str.split('transcript_id \"',expand=True)[1].str.split('\";',expand=True)[0]\n",
    "    exons = exons[[0,3,4,'transcript_id',6]]\n",
    "    exons = exons.sort_values([0,6,'transcript_id',3,4],ascending=True).reset_index(drop=True)\n",
    "    exons = exons.values\n",
    "    introns = []\n",
    "    intron_start, intron_end, prev_transcript = None, None, ''\n",
    "    \n",
    "    for exon in exons:\n",
    "        if (intron_start is None) or (prev_transcript!=exon[3]):\n",
    "            intron_start = exon[2]\n",
    "            prev_transcript = exon[3]\n",
    "        else:\n",
    "            intron_end = exon[1]\n",
    "            introns.append([exon[0],intron_start,intron_end,exon[3],0,exon[4]])\n",
    "            intron_start = exon[2]\n",
    "            prev_transcript = exon[3]\n",
    "    introns = pd.DataFrame(introns)\n",
    "    introns[2] = introns[2]-1\n",
    "    introns = introns.sort_values([0,1,2],ascending=True).reset_index(drop=True)\n",
    "    \n",
    "    bad_transcripts = list(introns.loc[introns[1]>introns[2]][3].unique())\n",
    "    \n",
    "    transcripts = enriched_gtf.loc[enriched_gtf[2]=='transcript'].reset_index(drop=True)\n",
    "    transcripts['transcript_id'] = transcripts[8].str.split('transcript_id \"',expand=True)[1].str.split('\";',expand=True)[0]\n",
    "    transcripts['gene_id'] = transcripts[8].str.split('gene_id \"',expand=True)[1].str.split('\";',expand=True)[0]\n",
    "    transcripts['bad'] = (transcripts['transcript_id'].isin(bad_transcripts)).astype('int')\n",
    "    transcripts['t']=1\n",
    "    gr = transcripts.groupby(['gene_id']).agg({'t':sum,'bad':sum}).reset_index()\n",
    "    \n",
    "    bad_genes = list(gr.loc[(gr['t']==gr['bad'])&(gr['bad']>0)]['gene_id'].unique())\n",
    "    \n",
    "    if len(bad_genes)>0:\n",
    "        enriched_gtf = enriched_gtf.loc[~enriched_gtf[8].str.contains('|'.join(bad_genes))].reset_index(drop=True)\n",
    "    if len(bad_transcripts):\n",
    "        enriched_gtf = enriched_gtf.loc[~enriched_gtf[8].str.contains('|'.join(bad_transcripts))].reset_index(drop=True)\n",
    "    \n",
    "    enriched_gtf.to_csv(file_paths[organism+'_enriched_annotation_file'], sep=str('\\t'),header=False,index=None,quoting=csv.QUOTE_NONE)"
   ]
  },
  {
   "cell_type": "markdown",
   "id": "f0fb3013-1902-44b7-8170-4e2df01cb46d",
   "metadata": {
    "jp-MarkdownHeadingCollapsed": true
   },
   "source": [
    "# Download control data<a name=\"control_data_download\"></a>"
   ]
  },
  {
   "cell_type": "code",
   "execution_count": 18,
   "id": "07542d00-4d56-42e7-9116-e843b3fcbee7",
   "metadata": {},
   "outputs": [],
   "source": [
    "samples_to_download_1 = pd.read_csv(subdirs['metadata_dir']+'SRA_CONTROL_DATA_1.tsv',delimiter=\"\\t\",\n",
    "                                   index_col=None,header=0)\n",
    "samples_to_download_2 = pd.read_csv(subdirs['metadata_dir']+'SRA_CONTROL_DATA_2.tsv',delimiter=\"\\t\",\n",
    "                                   index_col=None,header=0)\n",
    "samples_to_download_3 = pd.read_csv(subdirs['metadata_dir']+'SRA_CONTROL_DATA_3.tsv',delimiter=\"\\t\",\n",
    "                                   index_col=None,header=0)\n",
    "samples_to_download = pd.concat([samples_to_download_1,samples_to_download_2,samples_to_download_3]).reset_index(drop=True)"
   ]
  },
  {
   "cell_type": "code",
   "execution_count": 21,
   "id": "f609ea14-4e2f-4d7f-a716-799b42be6d61",
   "metadata": {},
   "outputs": [],
   "source": [
    "samples_to_download['expected_path'] = subdirs['fastq_dir']+samples_to_download['sample']+'/'+samples_to_download['sample']"
   ]
  },
  {
   "cell_type": "code",
   "execution_count": 27,
   "id": "5db8c296-cf6d-4996-99a9-7180af16aa14",
   "metadata": {},
   "outputs": [
    {
     "data": {
      "text/plain": [
       "'prefetch -v -O /scicore/home/zavolan/GROUP/StefanieCLIP/aleksei/input_fastq/SRR18735700 SRR18735700 && fasterq-dump -f -v -e 4 -O /scicore/home/zavolan/GROUP/StefanieCLIP/aleksei/input_fastq/SRR18735700 /scicore/home/zavolan/GROUP/StefanieCLIP/aleksei/input_fastq/SRR18735700/SRR18735700 && prefetch -v -O /scicore/home/zavolan/GROUP/StefanieCLIP/aleksei/input_fastq/SRR18735702 SRR18735702 && fasterq-dump -f -v -e 4 -O /scicore/home/zavolan/GROUP/StefanieCLIP/aleksei/input_fastq/SRR18735702 /scicore/home/zavolan/GROUP/StefanieCLIP/aleksei/input_fastq/SRR18735702/SRR18735702 && prefetch -v -O /scicore/home/zavolan/GROUP/StefanieCLIP/aleksei/input_fastq/SRR18735704 SRR18735704 && fasterq-dump -f -v -e 4 -O /scicore/home/zavolan/GROUP/StefanieCLIP/aleksei/input_fastq/SRR18735704 /scicore/home/zavolan/GROUP/StefanieCLIP/aleksei/input_fastq/SRR18735704/SRR18735704 && prefetch -v -O /scicore/home/zavolan/GROUP/StefanieCLIP/aleksei/input_fastq/SRR18735706 SRR18735706 && fasterq-dump -f -v -e 4 -O /scicore/home/zavolan/GROUP/StefanieCLIP/aleksei/input_fastq/SRR18735706 /scicore/home/zavolan/GROUP/StefanieCLIP/aleksei/input_fastq/SRR18735706/SRR18735706 && prefetch -v -O /scicore/home/zavolan/GROUP/StefanieCLIP/aleksei/input_fastq/SRR18735707 SRR18735707 && fasterq-dump -f -v -e 4 -O /scicore/home/zavolan/GROUP/StefanieCLIP/aleksei/input_fastq/SRR18735707 /scicore/home/zavolan/GROUP/StefanieCLIP/aleksei/input_fastq/SRR18735707/SRR18735707 && prefetch -v -O /scicore/home/zavolan/GROUP/StefanieCLIP/aleksei/input_fastq/SRR18735698 SRR18735698 && fasterq-dump -f -v -e 4 -O /scicore/home/zavolan/GROUP/StefanieCLIP/aleksei/input_fastq/SRR18735698 /scicore/home/zavolan/GROUP/StefanieCLIP/aleksei/input_fastq/SRR18735698/SRR18735698'"
      ]
     },
     "execution_count": 27,
     "metadata": {},
     "output_type": "execute_result"
    }
   ],
   "source": [
    "big_command = ''\n",
    "i=0\n",
    "for index,row in samples_to_download.iterrows():\n",
    "    SRA_id = row['sample']\n",
    "    if not (os.path.isfile(row['expected_path']+'.fastq.gz') or os.path.isfile(row['expected_path']+'_1.fastq.gz')):\n",
    "        command = 'prefetch -v -O '+subdirs['fastq_dir']+SRA_id+' '+SRA_id+\\\n",
    "        ' && fasterq-dump -f -v -e '+str(4)+' -O '+subdirs['fastq_dir']+SRA_id+' '+subdirs['fastq_dir']+SRA_id+'/'+SRA_id\n",
    "        if i>0:\n",
    "            big_command = big_command+' && '+command\n",
    "        else:\n",
    "            big_command = command\n",
    "        i=i+1\n",
    "big_command"
   ]
  },
  {
   "cell_type": "code",
   "execution_count": 35,
   "id": "646793f7-46fd-451e-a961-7d586e0193b2",
   "metadata": {},
   "outputs": [
    {
     "data": {
      "text/plain": [
       "'pigz -f --fast -p 12 /scicore/home/zavolan/GROUP/StefanieCLIP/aleksei/input_fastq/SRR18735702/SRR18735702_2.fastq && pigz -f --fast -p 12 /scicore/home/zavolan/GROUP/StefanieCLIP/aleksei/input_fastq/SRR18735702/SRR18735702_1.fastq && pigz -f --fast -p 12 /scicore/home/zavolan/GROUP/StefanieCLIP/aleksei/input_fastq/SRR18735704/SRR18735704_2.fastq && pigz -f --fast -p 12 /scicore/home/zavolan/GROUP/StefanieCLIP/aleksei/input_fastq/SRR18735704/SRR18735704_1.fastq && pigz -f --fast -p 12 /scicore/home/zavolan/GROUP/StefanieCLIP/aleksei/input_fastq/SRR18735698/SRR18735698_2.fastq && pigz -f --fast -p 12 /scicore/home/zavolan/GROUP/StefanieCLIP/aleksei/input_fastq/SRR18735698/SRR18735698_1.fastq && pigz -f --fast -p 12 /scicore/home/zavolan/GROUP/StefanieCLIP/aleksei/input_fastq/SRR18735706/SRR18735706_1.fastq && pigz -f --fast -p 12 /scicore/home/zavolan/GROUP/StefanieCLIP/aleksei/input_fastq/SRR18735706/SRR18735706_2.fastq && pigz -f --fast -p 12 /scicore/home/zavolan/GROUP/StefanieCLIP/aleksei/input_fastq/SRR18735700/SRR18735700_1.fastq && pigz -f --fast -p 12 /scicore/home/zavolan/GROUP/StefanieCLIP/aleksei/input_fastq/SRR18735700/SRR18735700_2.fastq && pigz -f --fast -p 12 /scicore/home/zavolan/GROUP/StefanieCLIP/aleksei/input_fastq/SRR18735707/SRR18735707_2.fastq && pigz -f --fast -p 12 /scicore/home/zavolan/GROUP/StefanieCLIP/aleksei/input_fastq/SRR18735707/SRR18735707_1.fastq'"
      ]
     },
     "execution_count": 35,
     "metadata": {},
     "output_type": "execute_result"
    }
   ],
   "source": [
    "# gzip fastq files\n",
    "os.system(\"\"\"find \"\"\"+subdirs['fastq_dir']+\"\"\" -name '*.fastq' > \"\"\"+subdirs['temp_dir']+\"\"\"fastq_file_paths.tsv\"\"\")\n",
    "fastq_file_paths = pd.read_csv(subdirs['temp_dir']+\"\"\"fastq_file_paths.tsv\"\"\",delimiter=\"\\t\",\n",
    "                                   index_col=None,header=None)\n",
    "big_command = ''\n",
    "i=0\n",
    "for file_path in fastq_file_paths[0]:\n",
    "    command = 'pigz -f --fast -p '+str(12)+' '+file_path\n",
    "    if i>0:\n",
    "        big_command = big_command+' && '+command\n",
    "    else:\n",
    "        big_command = command    \n",
    "    i=i+1\n",
    "big_command"
   ]
  },
  {
   "cell_type": "code",
   "execution_count": 36,
   "id": "74319397-a06b-4430-8cb6-4cb49e2972ab",
   "metadata": {},
   "outputs": [],
   "source": [
    "# delete unnecessary .sra files\n",
    "os.system(\"\"\"find \"\"\"+subdirs['fastq_dir']+\"\"\" -name '*.sra' > \"\"\"+subdirs['temp_dir']+\"\"\"sra_file_paths.tsv\"\"\")\n",
    "sra_file_paths = pd.read_csv(subdirs['temp_dir']+\"\"\"sra_file_paths.tsv\"\"\",delimiter=\"\\t\",\n",
    "                                   index_col=None,header=None)\n",
    "sra_file_paths.columns = ['path']\n",
    "command = 'rm '+' '.join(sra_file_paths['path'])\n",
    "# out = subprocess.check_output(command, shell=True)"
   ]
  },
  {
   "cell_type": "code",
   "execution_count": null,
   "id": "10673c14-fe8e-4309-9d1c-b6cf86fa72be",
   "metadata": {},
   "outputs": [],
   "source": [
    "# make downloaded fastq.gz files read-only"
   ]
  },
  {
   "cell_type": "code",
   "execution_count": null,
   "id": "eadcec38-3bad-46f3-b7dd-f74b3ed1afd9",
   "metadata": {},
   "outputs": [],
   "source": [
    "# chmod 554 -R ./input_fastq"
   ]
  },
  {
   "cell_type": "markdown",
   "id": "b65972e4-f29c-40cd-9153-383e2d7f80ff",
   "metadata": {},
   "source": [
    "# Make start_samples file"
   ]
  },
  {
   "cell_type": "markdown",
   "id": "459db29e-c2ee-4456-8b19-016ccb5cfb73",
   "metadata": {
    "jp-MarkdownHeadingCollapsed": true
   },
   "source": [
    "## for bCLIP and ChipSeq samples"
   ]
  },
  {
   "cell_type": "code",
   "execution_count": 39,
   "id": "f87fe9f4-5d6e-43f6-9f70-f7ef84ad7e4c",
   "metadata": {},
   "outputs": [],
   "source": [
    "# description file for bCLIP experimental samples\n",
    "experimental_samples = pd.read_csv(subdirs['metadata_dir']+'experimental_bCLIP_samples.tsv',delimiter=\"\\t\",\n",
    "                                   index_col=None,header=0)\n",
    "exp_file_paths = experimental_samples[['lane_file','barcode_file']].drop_duplicates().reset_index(drop=True)\n",
    "\n",
    "os.system(\"\"\"find \"\"\"+subdirs['main_project_dir']+'input/'+\"\"\" -name '*.fastq.gz' > \"\"\"+subdirs['temp_dir']+\"\"\"exper_fastq_file_paths.tsv\"\"\")\n",
    "fastq_file_paths = pd.read_csv(subdirs['temp_dir']+'exper_fastq_file_paths.tsv',delimiter=\"\\t\",\n",
    "                                   index_col=None,header=None)\n",
    "fastq_file_paths.columns = ['lane_file_path']\n",
    "fastq_file_paths['lane_file'] = fastq_file_paths['lane_file_path'].str.split('/',expand=True).iloc[:, -1]\n",
    "exp_file_paths = pd.merge(fastq_file_paths,exp_file_paths,how='inner',on=['lane_file'])\n",
    "\n",
    "os.system(\"\"\"find \"\"\"+subdirs['main_project_dir']+'input/'+\"\"\" -name '*.fasta' > \"\"\"+subdirs['temp_dir']+\"\"\"barcode_fasta_files.tsv\"\"\")\n",
    "barcode_fasta_files = pd.read_csv(subdirs['temp_dir']+'barcode_fasta_files.tsv',delimiter=\"\\t\",\n",
    "                                   index_col=None,header=None)\n",
    "barcode_fasta_files.columns = ['barcode_file_path']\n",
    "barcode_fasta_files['barcode_file'] = barcode_fasta_files['barcode_file_path'].str.split('/',expand=True).iloc[:, -1]\n",
    "exp_file_paths = pd.merge(barcode_fasta_files,exp_file_paths,how='inner',on=['barcode_file'])\n",
    "\n",
    "exp_file_paths['wfstart_lane_file_path'] = subdirs['fastq_dir']+exp_file_paths['lane_file'].str.replace('.fastq.gz','')+'/'+exp_file_paths['lane_file']\n",
    "exp_file_paths['wfstart_barcode_file_path'] = subdirs['fastq_dir']+exp_file_paths['lane_file'].str.replace('.fastq.gz','')+'/'+exp_file_paths['barcode_file']\n",
    "\n",
    "# for index, row in exp_file_paths.iterrows():\n",
    "#     sample_name = row['lane_file'].replace('.fastq.gz','')\n",
    "#     command = 'mkdir -p '+subdirs['fastq_dir']+sample_name+'/'\n",
    "#     out = subprocess.check_output(command, shell=True)\n",
    "#     command = 'rm -f '+row['wfstart_lane_file_path']+' && ln -f -s '+row['lane_file_path']+' '+row['wfstart_lane_file_path']\n",
    "#     out = subprocess.check_output(command, shell=True)\n",
    "#     command = 'rm -f '+row['wfstart_barcode_file_path']+' && ln -f -s '+row['barcode_file_path']+' '+row['wfstart_barcode_file_path']\n",
    "#     out = subprocess.check_output(command, shell=True)\n",
    "\n",
    "experimental_samples = pd.merge(experimental_samples,\n",
    "                                exp_file_paths[['lane_file','barcode_file','wfstart_lane_file_path','wfstart_barcode_file_path']],\n",
    "                                how='inner',on=['lane_file','barcode_file'])\n",
    "\n",
    "experimental_samples = experimental_samples.drop(['lane_file','barcode_file'],1).rename(columns={'wfstart_lane_file_path':'lane_file','wfstart_barcode_file_path':'barcode_file'})\n",
    "\n",
    "experimental_samples['genome_file'] = file_paths['mouse_genome_file']\n",
    "experimental_samples['gtf_file'] = file_paths['mouse_annotation_file']\n",
    "experimental_samples['lane_file_2'] = ''\n",
    "experimental_samples = experimental_samples[['name','lane_name','lane_file','lane_file_2','kmer','barcode_file','exp_ctl','batch','condition_name','genome_file','gtf_file']]\n",
    "\n",
    "experimental_samples['lane_name'] = 'f'+experimental_samples['barcode_file'].str.split('barcodes_',expand=True).iloc[:, -1].str.replace('.fasta','')\n",
    "experimental_samples['organism'] = 'mouse'\n",
    "experimental_samples['directionality'] = 's'\n",
    "experimental_samples['library_layout'] = 'SINGLE'\n",
    "\n",
    "# description file for public bCLIP samples\n",
    "public_samples = pd.read_csv(subdirs['metadata_dir']+'public_bCLIP_and_ChipSeq_samples.tsv',delimiter=\"\\t\",\n",
    "                                   index_col=None,header=0)\n",
    "public_samples['genome_file'] = public_samples.apply(lambda x:file_paths['mouse_genome_file'] if x['batch'].endswith('_mESC') else file_paths['human_genome_file'],1)\n",
    "public_samples['gtf_file'] = public_samples.apply(lambda x:file_paths['mouse_annotation_file'] if x['batch'].endswith('_mESC') else file_paths['human_annotation_file'],1)\n",
    "public_samples['lane_name'] = 'f'+public_samples['name']\n",
    "public_samples['organism'] = public_samples.apply(lambda x: 'mouse' if x['batch'].endswith('_mESC') else 'human',1)\n",
    "public_samples['directionality'] = 's' # forward orientation of the first read\n",
    "public_samples['library_layout'] = 'SINGLE'\n",
    "\n",
    "# merge with public data\n",
    "start_samples = pd.concat([public_samples,experimental_samples]).reset_index(drop=True)\n",
    "start_samples['kmer'] = start_samples['kmer'].fillna('XXXXXXX')\n",
    "\n",
    "# add list of chromosomes\n",
    "organisms = list(start_samples['organism'].unique())\n",
    "cl = []\n",
    "for organism in organisms:\n",
    "    enriched_gtf = pd.read_csv(file_paths[organism+'_enriched_annotation_file'],delimiter=\"\\t\",\n",
    "                                       index_col=None,header=None,usecols = [0])\n",
    "    chromosome_list =  list(enriched_gtf[0].unique())\n",
    "    cl.append([organism,' '.join(chromosome_list)])\n",
    "cl = pd.DataFrame(cl,columns=['organism','chromosomes'])\n",
    "start_samples = pd.merge(start_samples,cl,how='left',on='organism')\n",
    "\n",
    "start_samples.to_csv(subdirs['metadata_dir']+'start_bCLIP_and_ChipSeq_samples.tsv', sep=str('\\t'),header=True,index=None,quoting=csv.QUOTE_NONE)"
   ]
  },
  {
   "cell_type": "code",
   "execution_count": 41,
   "id": "e6c0cc88-b38c-4f36-ad05-a926ff9d4277",
   "metadata": {},
   "outputs": [
    {
     "data": {
      "text/plain": [
       "'/scicore/home/zavolan/GROUP/StefanieCLIP/aleksei/metadata/start_bCLIP_samples.tsv'"
      ]
     },
     "execution_count": 41,
     "metadata": {},
     "output_type": "execute_result"
    }
   ],
   "source": [
    "subdirs['metadata_dir']+'start_bCLIP_samples.tsv'"
   ]
  },
  {
   "cell_type": "code",
   "execution_count": 47,
   "id": "9c64876a-71f7-4414-a7e0-19c1888ea0e9",
   "metadata": {},
   "outputs": [
    {
     "data": {
      "text/plain": [
       "'/scicore/home/zavolan/GROUP/StefanieCLIP/aleksei/output/'"
      ]
     },
     "execution_count": 47,
     "metadata": {},
     "output_type": "execute_result"
    }
   ],
   "source": [
    "subdirs['wf_output_dir']"
   ]
  },
  {
   "cell_type": "code",
   "execution_count": 48,
   "id": "6e439693-d92d-4e31-9d78-25d75f802d85",
   "metadata": {},
   "outputs": [
    {
     "data": {
      "text/plain": [
       "'/scicore/home/zavolan/GROUP/StefanieCLIP/aleksei/temp_dir/slurm/'"
      ]
     },
     "execution_count": 48,
     "metadata": {},
     "output_type": "execute_result"
    }
   ],
   "source": [
    "subdirs['slurm_dir']"
   ]
  },
  {
   "cell_type": "markdown",
   "id": "dbfe1e73-7689-4317-bc60-a9a9f933c9ed",
   "metadata": {
    "jp-MarkdownHeadingCollapsed": true
   },
   "source": [
    "## for PRO-seq"
   ]
  },
  {
   "cell_type": "code",
   "execution_count": 40,
   "id": "214ff7cb-577a-4b5c-833e-5e6a92f816e3",
   "metadata": {},
   "outputs": [],
   "source": [
    "# description file for public PRO-seq samples\n",
    "public_samples = pd.read_csv(subdirs['metadata_dir']+'public_PROseq_samples.tsv',delimiter=\"\\t\",\n",
    "                                   index_col=None,header=0)\n",
    "\n",
    "public_samples['genome_file'] = public_samples.apply(lambda x:file_paths['mouse_genome_file'] if x['batch'].endswith('_mESC') else file_paths['human_genome_file'],1)\n",
    "public_samples['gtf_file'] = public_samples.apply(lambda x:file_paths['mouse_annotation_file'] if x['batch'].endswith('_mESC') else file_paths['human_annotation_file'],1)\n",
    "public_samples['lane_name'] = 'f'+public_samples['name']\n",
    "public_samples['organism'] = public_samples.apply(lambda x: 'mouse' if x['batch'].endswith('_mESC') else 'human',1)\n",
    "public_samples['directionality'] = 'S' # reverse orientation of the first read\n",
    "public_samples['library_layout'] = 'SINGLE'\n",
    "\n",
    "start_samples = public_samples.copy()\n",
    "start_samples['kmer'] = start_samples['kmer'].fillna('XXXXXXX')\n",
    "\n",
    "# add list of chromosomes\n",
    "organisms = list(start_samples['organism'].unique())\n",
    "cl = []\n",
    "for organism in organisms:\n",
    "    enriched_gtf = pd.read_csv(file_paths[organism+'_enriched_annotation_file'],delimiter=\"\\t\",\n",
    "                                       index_col=None,header=None,usecols = [0])\n",
    "    chromosome_list =  list(enriched_gtf[0].unique())\n",
    "    cl.append([organism,' '.join(chromosome_list)])\n",
    "cl = pd.DataFrame(cl,columns=['organism','chromosomes'])\n",
    "start_samples = pd.merge(start_samples,cl,how='left',on='organism')\n",
    "start_samples.to_csv(subdirs['metadata_dir']+'start_PROseq_samples.tsv', sep=str('\\t'),header=True,index=None,quoting=csv.QUOTE_NONE)"
   ]
  },
  {
   "cell_type": "markdown",
   "id": "aecf0d2c-e2dc-48b7-b7f9-b8b59acd8797",
   "metadata": {
    "jp-MarkdownHeadingCollapsed": true
   },
   "source": [
    "## for RNA-seq"
   ]
  },
  {
   "cell_type": "code",
   "execution_count": 31,
   "id": "e4d814da-36cb-49fb-9e51-152b10511940",
   "metadata": {},
   "outputs": [
    {
     "data": {
      "text/plain": [
       "0"
      ]
     },
     "execution_count": 31,
     "metadata": {},
     "output_type": "execute_result"
    }
   ],
   "source": [
    "os.system(\"\"\"find \"\"\"+subdirs['main_project_dir']+'input/X204SC24014174-Z01-F001/01.RawData/'+\"\"\" -name '*.fq.gz' > \"\"\"+subdirs['temp_dir']+\"\"\"exper_RNAseq_fastq_file_paths.tsv\"\"\")"
   ]
  },
  {
   "cell_type": "code",
   "execution_count": 39,
   "id": "9e803876-30d0-4f15-8241-83b8ea6c1889",
   "metadata": {},
   "outputs": [],
   "source": [
    "exper_RNAseq_fastq_file_paths = pd.read_csv(subdirs['temp_dir']+\"\"\"exper_RNAseq_fastq_file_paths.tsv\"\"\",delimiter=\"\\t\",index_col=None,header=None)\n",
    "exper_RNAseq_fastq_file_paths.columns = ['path']\n",
    "exper_RNAseq_fastq_file_paths['name'] = exper_RNAseq_fastq_file_paths.apply(lambda x:x['path'].split('/')[-1][:-8],1)\n",
    "exper_RNAseq_fastq_file_paths['lane_file'] = exper_RNAseq_fastq_file_paths.apply(lambda x:'/'.join(x['path'].split('/')[:-1])+'/'+x['name']+'_1.fq.gz',1)\n",
    "exper_RNAseq_fastq_file_paths['lane_file_2'] = exper_RNAseq_fastq_file_paths.apply(lambda x:'/'.join(x['path'].split('/')[:-1])+'/'+x['name']+'_2.fq.gz',1)\n",
    "experimental_samples = exper_RNAseq_fastq_file_paths.drop_duplicates('name').reset_index(drop=True)\n",
    "experimental_samples['replicate'] = experimental_samples.apply(lambda x:x['name'].split('_')[0],1)\n",
    "\n",
    "mouse_replicates = ['A12','A13','A14','A15','A18','A19']\n",
    "human_replicates = list('A'+pd.Series(range(1,10)).astype('str'))\n",
    "\n",
    "experimental_samples = experimental_samples.loc[experimental_samples['replicate'].isin(mouse_replicates+human_replicates)].reset_index(drop=True).drop('path',1)\n",
    "\n",
    "experimental_samples_mouse = experimental_samples.loc[experimental_samples['replicate'].isin(mouse_replicates)].reset_index(drop=True)\n",
    "experimental_samples_human = experimental_samples.loc[experimental_samples['replicate'].isin(human_replicates)].reset_index(drop=True)\n",
    "experimental_samples_mouse['genome_file'] = file_paths['mouse_genome_file']\n",
    "experimental_samples_human['genome_file'] = file_paths['human_genome_file']\n",
    "experimental_samples_mouse['gtf_file'] = file_paths['mouse_annotation_file']\n",
    "experimental_samples_human['gtf_file'] = file_paths['human_annotation_file']\n",
    "experimental_samples_human['organism'] = 'human'\n",
    "experimental_samples_mouse['organism'] = 'mouse'\n",
    "\n",
    "# experimental_samples = pd.concat([experimental_samples_human,experimental_samples_mouse]).reset_index(drop=True)\n",
    "experimental_samples = experimental_samples_human.copy()\n",
    "\n",
    "experimental_samples = experimental_samples.drop('replicate',1)\n",
    "experimental_samples['condition_name'] = 'NA' # define afterwards in analysis\n",
    "experimental_samples['batch'] = 'new24_03'\n",
    "experimental_samples['exp_ctl'] = 'NA'\n",
    "\n",
    "# public_samples = pd.read_csv(subdirs['metadata_dir']+'public_RNAseq_samples.tsv',delimiter=\"\\t\",\n",
    "#                                    index_col=None,header=0)\n",
    "# public_samples['genome_file'] = file_paths['mouse_genome_file']\n",
    "# public_samples['gtf_file'] = file_paths['mouse_annotation_file']\n",
    "# public_samples['organism'] = 'mouse'\n",
    "\n",
    "# start_samples = pd.concat([public_samples[list(experimental_samples.columns)],experimental_samples]).reset_index(drop=True)\n",
    "start_samples = experimental_samples.copy()\n",
    "start_samples['kmer'] = 'XXXXXXX'\n",
    "\n",
    "\n",
    "# add list of chromosomes\n",
    "organisms = list(start_samples['organism'].unique())\n",
    "cl = []\n",
    "for organism in organisms:\n",
    "    enriched_gtf = pd.read_csv(file_paths[organism+'_enriched_annotation_file'],delimiter=\"\\t\",\n",
    "                                       index_col=None,header=None,usecols = [0])\n",
    "    chromosome_list =  list(enriched_gtf[0].unique())\n",
    "    cl.append([organism,' '.join(chromosome_list)])\n",
    "cl = pd.DataFrame(cl,columns=['organism','chromosomes'])\n",
    "start_samples = pd.merge(start_samples,cl,how='left',on='organism')\n",
    "\n",
    "start_samples.to_csv(subdirs['metadata_dir']+'start_RNAseq_samples.tsv', sep=str('\\t'),header=True,index=None,quoting=csv.QUOTE_NONE)"
   ]
  },
  {
   "cell_type": "markdown",
   "id": "0503e062-3f22-47f5-826b-adc0f0f062fe",
   "metadata": {},
   "source": [
    "# Run main WF"
   ]
  },
  {
   "cell_type": "markdown",
   "id": "f81d1dd9-728d-419b-8252-95e2f28565c3",
   "metadata": {
    "jp-MarkdownHeadingCollapsed": true
   },
   "source": [
    "## bCLIP and ChipSeq analysis"
   ]
  },
  {
   "cell_type": "code",
   "execution_count": 17,
   "id": "6baeae43-e94c-4dee-a5c2-57c645d19787",
   "metadata": {},
   "outputs": [
    {
     "data": {
      "text/plain": [
       "'snakemake --snakefile /scicore/home/zavolan/mirono0000/Projects/bCLIP/bclip_workflow/Snakefile_bCLIP --configfile /scicore/home/zavolan/mirono0000/Projects/bCLIP/bclip_workflow/config_bCLIP.yaml --scheduler greedy --printshellcmds --use-conda --conda-frontend conda --use-singularity --singularity-args \"--bind /scicore/home/zavolan/mirono0000/Projects/bCLIP/,/scicore/home/zavolan/GROUP/StefanieCLIP/,/scicore/home/zavolan/GROUP/Genomes/\" --cluster-config /scicore/home/zavolan/mirono0000/Projects/bCLIP/bclip_workflow/cluster_bCLIP.json --cores 500 --local-cores 10 --jobs 100 --latency-wait 60 --cluster \"sbatch --cpus-per-task={cluster.threads} --mem={cluster.mem} --qos={cluster.queue} --partition={cluster.partition} --time={cluster.time} --output={cluster.out}\" --nolock -np'"
      ]
     },
     "execution_count": 17,
     "metadata": {},
     "output_type": "execute_result"
    }
   ],
   "source": [
    "command = \"\"\"snakemake \\\n",
    "--snakefile \"\"\"+subdirs['wf_dir']+\"\"\"Snakefile_bCLIP \\\n",
    "--configfile \"\"\"+subdirs['wf_dir']+\"\"\"config_bCLIP.yaml \\\n",
    "--scheduler greedy \\\n",
    "--printshellcmds \\\n",
    "--use-conda --conda-frontend conda \\\n",
    "--use-singularity \\\n",
    "--singularity-args \"--bind /scicore/home/zavolan/mirono0000/Projects/bCLIP/,/scicore/home/zavolan/GROUP/StefanieCLIP/,/scicore/home/zavolan/GROUP/Genomes/\" \\\n",
    "--cluster-config \"\"\"+subdirs['wf_dir']+\"\"\"cluster_bCLIP.json \\\n",
    "--cores 500 \\\n",
    "--local-cores 10 \\\n",
    "--jobs 100 \\\n",
    "--latency-wait 60 \\\n",
    "--cluster \"sbatch \\\n",
    "--cpus-per-task={cluster.threads} \\\n",
    "--mem={cluster.mem} \\\n",
    "--qos={cluster.queue} \\\n",
    "--partition={cluster.partition} \\\n",
    "--time={cluster.time} \\\n",
    "--output={cluster.out}\" \\\n",
    "--nolock \\\n",
    "-np\"\"\"\n",
    "command"
   ]
  },
  {
   "cell_type": "markdown",
   "id": "7d3ec954-e010-4153-9411-5d3e3d0a5c32",
   "metadata": {
    "jp-MarkdownHeadingCollapsed": true
   },
   "source": [
    "## PRO-seq"
   ]
  },
  {
   "cell_type": "code",
   "execution_count": 14,
   "id": "63107a1a-b124-4c6b-9415-b5499eaa42cb",
   "metadata": {},
   "outputs": [
    {
     "data": {
      "text/plain": [
       "'snakemake --snakefile /scicore/home/zavolan/mirono0000/Projects/bCLIP/bclip_workflow/Snakefile_PROseq --configfile /scicore/home/zavolan/mirono0000/Projects/bCLIP/bclip_workflow/config_PROseq.yaml --printshellcmds --use-conda --conda-frontend conda --use-singularity --singularity-args \"--bind /scicore/home/zavolan/mirono0000/Projects/bCLIP/,/scicore/home/zavolan/GROUP/StefanieCLIP/,/scicore/home/zavolan/GROUP/Genomes/\" --cluster-config /scicore/home/zavolan/mirono0000/Projects/bCLIP/bclip_workflow/cluster_PROseq.json --cores 500 --local-cores 10 --jobs 100 --latency-wait 60 --cluster \"sbatch --cpus-per-task={cluster.threads} --mem={cluster.mem} --qos={cluster.queue} --partition={cluster.partition} --time={cluster.time} --output={cluster.out}\" --nolock -np'"
      ]
     },
     "execution_count": 14,
     "metadata": {},
     "output_type": "execute_result"
    }
   ],
   "source": [
    "command = \"\"\"snakemake \\\n",
    "--snakefile \"\"\"+subdirs['wf_dir']+\"\"\"Snakefile_PROseq \\\n",
    "--configfile \"\"\"+subdirs['wf_dir']+\"\"\"config_PROseq.yaml \\\n",
    "--printshellcmds \\\n",
    "--use-conda --conda-frontend conda \\\n",
    "--use-singularity \\\n",
    "--singularity-args \"--bind /scicore/home/zavolan/mirono0000/Projects/bCLIP/,/scicore/home/zavolan/GROUP/StefanieCLIP/,/scicore/home/zavolan/GROUP/Genomes/\" \\\n",
    "--cluster-config \"\"\"+subdirs['wf_dir']+\"\"\"cluster_PROseq.json \\\n",
    "--cores 500 \\\n",
    "--local-cores 10 \\\n",
    "--jobs 100 \\\n",
    "--latency-wait 60 \\\n",
    "--cluster \"sbatch \\\n",
    "--cpus-per-task={cluster.threads} \\\n",
    "--mem={cluster.mem} \\\n",
    "--qos={cluster.queue} \\\n",
    "--partition={cluster.partition} \\\n",
    "--time={cluster.time} \\\n",
    "--output={cluster.out}\" \\\n",
    "--nolock \\\n",
    "-np\"\"\"\n",
    "command"
   ]
  },
  {
   "cell_type": "markdown",
   "id": "ad5be7bc-05d5-43fa-9607-7e5ad7d4d380",
   "metadata": {
    "jp-MarkdownHeadingCollapsed": true
   },
   "source": [
    "## RNA-seq"
   ]
  },
  {
   "cell_type": "code",
   "execution_count": 30,
   "id": "62151b65-297e-435b-8d6f-177c0fdceb8e",
   "metadata": {},
   "outputs": [
    {
     "data": {
      "text/plain": [
       "'snakemake --snakefile /scicore/home/zavolan/mirono0000/Projects/bCLIP/bclip_workflow/Snakefile_RNAseq --configfile /scicore/home/zavolan/mirono0000/Projects/bCLIP/bclip_workflow/config_RNAseq.yaml --printshellcmds --use-conda --conda-frontend conda --use-singularity --singularity-args \"--bind /scicore/home/zavolan/mirono0000/Projects/bCLIP/,/scicore/home/zavolan/GROUP/StefanieCLIP/,/scicore/home/zavolan/GROUP/Genomes/\" --cluster-config /scicore/home/zavolan/mirono0000/Projects/bCLIP/bclip_workflow/cluster_RNAseq.json --cores 500 --local-cores 10 --jobs 100 --latency-wait 60 --cluster \"sbatch --cpus-per-task={cluster.threads} --mem={cluster.mem} --qos={cluster.queue} --partition={cluster.partition} --time={cluster.time} --output={cluster.out}\" --nolock -np'"
      ]
     },
     "execution_count": 30,
     "metadata": {},
     "output_type": "execute_result"
    }
   ],
   "source": [
    "command = \"\"\"snakemake \\\n",
    "--snakefile \"\"\"+subdirs['wf_dir']+\"\"\"Snakefile_RNAseq \\\n",
    "--configfile \"\"\"+subdirs['wf_dir']+\"\"\"config_RNAseq.yaml \\\n",
    "--printshellcmds \\\n",
    "--use-conda --conda-frontend conda \\\n",
    "--use-singularity \\\n",
    "--singularity-args \"--bind /scicore/home/zavolan/mirono0000/Projects/bCLIP/,/scicore/home/zavolan/GROUP/StefanieCLIP/,/scicore/home/zavolan/GROUP/Genomes/\" \\\n",
    "--cluster-config \"\"\"+subdirs['wf_dir']+\"\"\"cluster_RNAseq.json \\\n",
    "--cores 500 \\\n",
    "--local-cores 10 \\\n",
    "--jobs 100 \\\n",
    "--latency-wait 60 \\\n",
    "--cluster \"sbatch \\\n",
    "--cpus-per-task={cluster.threads} \\\n",
    "--mem={cluster.mem} \\\n",
    "--qos={cluster.queue} \\\n",
    "--partition={cluster.partition} \\\n",
    "--time={cluster.time} \\\n",
    "--output={cluster.out}\" \\\n",
    "--nolock \\\n",
    "-np\"\"\"\n",
    "command"
   ]
  },
  {
   "cell_type": "markdown",
   "id": "5538fa7e-9f86-42b2-8ce4-e9bd8d173720",
   "metadata": {
    "jp-MarkdownHeadingCollapsed": true
   },
   "source": [
    "## Auxiliary"
   ]
  },
  {
   "cell_type": "code",
   "execution_count": null,
   "id": "3b3b6091-61f0-4ffa-9d51-138599574ab9",
   "metadata": {},
   "outputs": [],
   "source": [
    "# run if want to remove all bam files\n",
    "sample_file_name = subdirs['temp_dir']+'bam_file_paths.tsv'\n",
    "\n",
    "os.system(\"\"\"find \"\"\"+'/scicore/home/zavolan/GROUP/StefanieCLIP/aleksei/output/'+\"\"\" -name '*.Aligned.sortedByCoord.out.bam' > \"\"\"+sample_file_name)\n",
    "bam_file_paths = pd.read_csv(sample_file_name,delimiter=\"\\t\",\n",
    "                                   index_col=None,header=None)\n",
    "bam_file_paths['dir'] = bam_file_paths.apply(lambda x:os.path.dirname(x[0]), 1)\n",
    "command = 'rm -r '+' '.join(bam_file_paths['dir'])\n",
    "# out = subprocess.check_output(command, shell=True)"
   ]
  }
 ],
 "metadata": {
  "kernelspec": {
   "display_name": "Python [conda env:miniconda3-py310]",
   "language": "python",
   "name": "conda-env-miniconda3-py310-py"
  },
  "language_info": {
   "codemirror_mode": {
    "name": "ipython",
    "version": 3
   },
   "file_extension": ".py",
   "mimetype": "text/x-python",
   "name": "python",
   "nbconvert_exporter": "python",
   "pygments_lexer": "ipython3",
   "version": "3.10.8"
  }
 },
 "nbformat": 4,
 "nbformat_minor": 5
}
